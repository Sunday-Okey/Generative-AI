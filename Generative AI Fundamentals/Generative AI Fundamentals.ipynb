{
 "cells": [
  {
   "cell_type": "markdown",
   "id": "dd6c3d7b-5676-4b93-ba91-a3131e77b3fe",
   "metadata": {},
   "source": [
    "# Generative AI Fundamentals"
   ]
  },
  {
   "cell_type": "markdown",
   "id": "6237969b-dde5-4eae-9a2c-9e0b3a56ec98",
   "metadata": {},
   "source": [
    "## Introduction"
   ]
  },
  {
   "cell_type": "markdown",
   "id": "e239e45e-c23e-475c-b7f2-9da00879741c",
   "metadata": {},
   "source": [
    "https://www.youtube.com/watch?v=6ZlsUgezOp8"
   ]
  },
  {
   "cell_type": "markdown",
   "id": "8d1ac393-c84f-43f7-9264-1f0c17430e57",
   "metadata": {},
   "source": [
    "Generative AI (Gen AI) is an exciting frontier in technology where machines are empowered to create, shaping the future of human-machine interaction. This innovative tool is transforming fields left and right, offering quick and efficient solutions to complex problems with its ability to generate new designs and ideas."
   ]
  },
  {
   "cell_type": "markdown",
   "id": "cb4f0e1d-993c-499e-a73b-2f05dfeafc10",
   "metadata": {},
   "source": [
    "## Lesson Objectives\n",
    "By the end of this lesson, you will be able to:\n",
    "\n",
    "- Identify industry applications, trends, and opportunities of Generative AI\n",
    "- Contextualize Generative AI within the broader history and landscape of machine learning and artificial intelligence\n",
    "- Describe the general process that popular Generative AI models use to generate outputs"
   ]
  },
  {
   "cell_type": "markdown",
   "id": "e02c03b3-b8fc-44ce-97f5-db59da831622",
   "metadata": {},
   "source": [
    "## Lesson Prerequisites\n",
    "Before starting this lesson, you should already be able to:\n",
    "\n",
    "- Use Python at an intermediate level, including creating variables, importing libraries, writing functions, and extracting information from nested data structures"
   ]
  },
  {
   "cell_type": "code",
   "execution_count": null,
   "id": "64749c2a-0825-45f2-9294-519b443cfc04",
   "metadata": {},
   "outputs": [],
   "source": []
  }
 ],
 "metadata": {
  "kernelspec": {
   "display_name": "Python 3 (ipykernel)",
   "language": "python",
   "name": "python3"
  },
  "language_info": {
   "codemirror_mode": {
    "name": "ipython",
    "version": 3
   },
   "file_extension": ".py",
   "mimetype": "text/x-python",
   "name": "python",
   "nbconvert_exporter": "python",
   "pygments_lexer": "ipython3",
   "version": "3.12.4"
  }
 },
 "nbformat": 4,
 "nbformat_minor": 5
}
